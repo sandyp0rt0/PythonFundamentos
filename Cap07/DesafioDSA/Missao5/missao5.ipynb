{
 "cells": [
  {
   "cell_type": "markdown",
   "metadata": {},
   "source": [
    "# <font color='blue'>Data Science Academy - Python Fundamentos - Capítulo 7</font>\n",
    "\n",
    "## Download: http://github.com/dsacademybr"
   ]
  },
  {
   "cell_type": "code",
   "execution_count": 1,
   "metadata": {},
   "outputs": [
    {
     "name": "stdout",
     "output_type": "stream",
     "text": [
      "Versão da Linguagem Python Usada Neste Jupyter Notebook: 3.7.6\n"
     ]
    }
   ],
   "source": [
    "# Versão da Linguagem Python\n",
    "from platform import python_version\n",
    "print('Versão da Linguagem Python Usada Neste Jupyter Notebook:', python_version())"
   ]
  },
  {
   "cell_type": "markdown",
   "metadata": {},
   "source": [
    "## Missão: Analisar o Comportamento de Compra de Consumidores."
   ]
  },
  {
   "cell_type": "markdown",
   "metadata": {},
   "source": [
    "## Nível de Dificuldade: Alto"
   ]
  },
  {
   "cell_type": "markdown",
   "metadata": {},
   "source": [
    "Você recebeu a tarefa de analisar os dados de compras de um web site! Os dados estão no formato JSON e disponíveis junto com este notebook.\n",
    "\n",
    "No site, cada usuário efetua login usando sua conta pessoal e pode adquirir produtos à medida que navega pela lista de produtos oferecidos. Cada produto possui um valor de venda. Dados de idade e sexo de cada usuário foram coletados e estão fornecidos no arquivo JSON.\n",
    "\n",
    "Seu trabalho é entregar uma análise de comportamento de compra dos consumidores. Esse é um tipo de atividade comum realizado por Cientistas de Dados e o resultado deste trabalho pode ser usado, por exemplo, para alimentar um modelo de Machine Learning e fazer previsões sobre comportamentos futuros.\n",
    "\n",
    "Mas nesta missão você vai analisar o comportamento de compra dos consumidores usando o pacote Pandas da linguagem Python e seu relatório final deve incluir cada um dos seguintes itens:\n",
    "\n",
    "** Contagem de Consumidores **\n",
    "\n",
    "* Número total de consumidores\n",
    "\n",
    "\n",
    "** Análise Geral de Compras **\n",
    "\n",
    "* Número de itens exclusivos\n",
    "* Preço médio de compra\n",
    "* Número total de compras\n",
    "* Rendimento total\n",
    "\n",
    "\n",
    "** Informações Demográficas Por Gênero **\n",
    "\n",
    "* Porcentagem e contagem de compradores masculinos\n",
    "* Porcentagem e contagem de compradores do sexo feminino\n",
    "* Porcentagem e contagem de outros / não divulgados\n",
    "\n",
    "\n",
    "** Análise de Compras Por Gênero **\n",
    "\n",
    "* Número de compras\n",
    "* Preço médio de compra\n",
    "* Valor Total de Compra\n",
    "* Compras for faixa etária\n",
    "\n",
    "\n",
    "** Identifique os 5 principais compradores pelo valor total de compra e, em seguida, liste (em uma tabela): **\n",
    "\n",
    "* Login\n",
    "* Número de compras\n",
    "* Preço médio de compra\n",
    "* Valor Total de Compra\n",
    "* Itens mais populares\n",
    "\n",
    "\n",
    "** Identifique os 5 itens mais populares por contagem de compras e, em seguida, liste (em uma tabela): **\n",
    "\n",
    "* ID do item\n",
    "* Nome do item\n",
    "* Número de compras\n",
    "* Preço do item\n",
    "* Valor Total de Compra\n",
    "* Itens mais lucrativos\n",
    "\n",
    "\n",
    "** Identifique os 5 itens mais lucrativos pelo valor total de compra e, em seguida, liste (em uma tabela): **\n",
    "\n",
    "* ID do item\n",
    "* Nome do item\n",
    "* Número de compras\n",
    "* Preço do item\n",
    "* Valor Total de Compra\n",
    "\n",
    "\n",
    "** Como considerações finais: **\n",
    "\n",
    "* Seu script deve funcionar para o conjunto de dados fornecido.\n",
    "* Você deve usar a Biblioteca Pandas e o Jupyter Notebook.\n"
   ]
  },
  {
   "cell_type": "code",
   "execution_count": 2,
   "metadata": {},
   "outputs": [],
   "source": [
    "# Imports\n",
    "import pandas as pd\n",
    "import numpy as np"
   ]
  },
  {
   "cell_type": "code",
   "execution_count": 3,
   "metadata": {},
   "outputs": [
    {
     "data": {
      "text/html": [
       "<div>\n",
       "<style scoped>\n",
       "    .dataframe tbody tr th:only-of-type {\n",
       "        vertical-align: middle;\n",
       "    }\n",
       "\n",
       "    .dataframe tbody tr th {\n",
       "        vertical-align: top;\n",
       "    }\n",
       "\n",
       "    .dataframe thead th {\n",
       "        text-align: right;\n",
       "    }\n",
       "</style>\n",
       "<table border=\"1\" class=\"dataframe\">\n",
       "  <thead>\n",
       "    <tr style=\"text-align: right;\">\n",
       "      <th></th>\n",
       "      <th>Login</th>\n",
       "      <th>Idade</th>\n",
       "      <th>Sexo</th>\n",
       "      <th>Item ID</th>\n",
       "      <th>Nome do Item</th>\n",
       "      <th>Valor</th>\n",
       "    </tr>\n",
       "  </thead>\n",
       "  <tbody>\n",
       "    <tr>\n",
       "      <th>0</th>\n",
       "      <td>Aelalis34</td>\n",
       "      <td>38</td>\n",
       "      <td>Masculino</td>\n",
       "      <td>165</td>\n",
       "      <td>Bone Crushing Silver Skewer</td>\n",
       "      <td>3.37</td>\n",
       "    </tr>\n",
       "    <tr>\n",
       "      <th>1</th>\n",
       "      <td>Eolo46</td>\n",
       "      <td>21</td>\n",
       "      <td>Masculino</td>\n",
       "      <td>119</td>\n",
       "      <td>Stormbringer, Dark Blade of Ending Misery</td>\n",
       "      <td>2.32</td>\n",
       "    </tr>\n",
       "    <tr>\n",
       "      <th>2</th>\n",
       "      <td>Assastnya25</td>\n",
       "      <td>34</td>\n",
       "      <td>Masculino</td>\n",
       "      <td>174</td>\n",
       "      <td>Primitive Blade</td>\n",
       "      <td>2.46</td>\n",
       "    </tr>\n",
       "    <tr>\n",
       "      <th>3</th>\n",
       "      <td>Pheusrical25</td>\n",
       "      <td>21</td>\n",
       "      <td>Masculino</td>\n",
       "      <td>92</td>\n",
       "      <td>Final Critic</td>\n",
       "      <td>1.36</td>\n",
       "    </tr>\n",
       "    <tr>\n",
       "      <th>4</th>\n",
       "      <td>Aela59</td>\n",
       "      <td>23</td>\n",
       "      <td>Masculino</td>\n",
       "      <td>63</td>\n",
       "      <td>Stormfury Mace</td>\n",
       "      <td>1.27</td>\n",
       "    </tr>\n",
       "  </tbody>\n",
       "</table>\n",
       "</div>"
      ],
      "text/plain": [
       "          Login  Idade       Sexo  Item ID  \\\n",
       "0     Aelalis34     38  Masculino      165   \n",
       "1        Eolo46     21  Masculino      119   \n",
       "2   Assastnya25     34  Masculino      174   \n",
       "3  Pheusrical25     21  Masculino       92   \n",
       "4        Aela59     23  Masculino       63   \n",
       "\n",
       "                                Nome do Item  Valor  \n",
       "0                Bone Crushing Silver Skewer   3.37  \n",
       "1  Stormbringer, Dark Blade of Ending Misery   2.32  \n",
       "2                            Primitive Blade   2.46  \n",
       "3                               Final Critic   1.36  \n",
       "4                             Stormfury Mace   1.27  "
      ]
     },
     "execution_count": 3,
     "metadata": {},
     "output_type": "execute_result"
    }
   ],
   "source": [
    "# Carrega o arquivo\n",
    "load_file = \"dados_compras.json\"\n",
    "purchase_file = pd.read_json(load_file, orient = \"records\")\n",
    "purchase_file.head()"
   ]
  },
  {
   "cell_type": "markdown",
   "metadata": {},
   "source": [
    "## Informações Sobre os Consumidores"
   ]
  },
  {
   "cell_type": "code",
   "execution_count": 4,
   "metadata": {},
   "outputs": [
    {
     "name": "stdout",
     "output_type": "stream",
     "text": [
      "Quantidade total de consumidores: 573\n"
     ]
    }
   ],
   "source": [
    "# Implemente aqui sua solução\n",
    "qnt_consumidores = len(purchase_file.Login.unique())\n",
    "print(\"Quantidade total de consumidores: %d\" % qnt_consumidores)\n"
   ]
  },
  {
   "cell_type": "markdown",
   "metadata": {},
   "source": [
    "## Análise Geral de Compras"
   ]
  },
  {
   "cell_type": "code",
   "execution_count": 5,
   "metadata": {},
   "outputs": [
    {
     "name": "stdout",
     "output_type": "stream",
     "text": [
      "Números de itens exclusivos: 183\n",
      "Valor médio de compras: $2.93\n",
      "Número total de compras: 780\n",
      "Rendimento Total: $2286.33\n"
     ]
    }
   ],
   "source": [
    "# Implemente aqui sua solução\n",
    "\n",
    "\n",
    "qnt_itens_exclusivos = len(purchase_file[\"Item ID\"].unique())\n",
    "print(\"Números de itens exclusivos: %d\" % qnt_itens_exclusivos)\n",
    "\n",
    "preco_medio = purchase_file.Valor.mean()\n",
    "print(\"Valor médio de compras: $%.2f\" % preco_medio)\n",
    "\n",
    "#qnt_total_compras = purchase_file.shape[0]\n",
    "qnt_total_compras = len(purchase_file.index)\n",
    "print(\"Número total de compras: %d\" % qnt_total_compras)\n",
    "\n",
    "rendimento_total = purchase_file.Valor.sum()\n",
    "print(\"Rendimento Total: $%.2f\" % rendimento_total)"
   ]
  },
  {
   "cell_type": "markdown",
   "metadata": {},
   "source": [
    "## Análise Demográfica"
   ]
  },
  {
   "cell_type": "code",
   "execution_count": 6,
   "metadata": {},
   "outputs": [
    {
     "data": {
      "text/html": [
       "<div>\n",
       "<style scoped>\n",
       "    .dataframe tbody tr th:only-of-type {\n",
       "        vertical-align: middle;\n",
       "    }\n",
       "\n",
       "    .dataframe tbody tr th {\n",
       "        vertical-align: top;\n",
       "    }\n",
       "\n",
       "    .dataframe thead th {\n",
       "        text-align: right;\n",
       "    }\n",
       "</style>\n",
       "<table border=\"1\" class=\"dataframe\">\n",
       "  <thead>\n",
       "    <tr style=\"text-align: right;\">\n",
       "      <th></th>\n",
       "      <th>Faixas Etárias</th>\n",
       "      <th>Masculino</th>\n",
       "      <th>Feminino</th>\n",
       "      <th>Outros</th>\n",
       "    </tr>\n",
       "  </thead>\n",
       "  <tbody>\n",
       "    <tr>\n",
       "      <th>0</th>\n",
       "      <td>0-20</td>\n",
       "      <td>156</td>\n",
       "      <td>39</td>\n",
       "      <td>1</td>\n",
       "    </tr>\n",
       "    <tr>\n",
       "      <th>1</th>\n",
       "      <td>20-40</td>\n",
       "      <td>462</td>\n",
       "      <td>95</td>\n",
       "      <td>10</td>\n",
       "    </tr>\n",
       "    <tr>\n",
       "      <th>2</th>\n",
       "      <td>40-60</td>\n",
       "      <td>15</td>\n",
       "      <td>2</td>\n",
       "      <td>0</td>\n",
       "    </tr>\n",
       "    <tr>\n",
       "      <th>3</th>\n",
       "      <td>60+</td>\n",
       "      <td>0</td>\n",
       "      <td>0</td>\n",
       "      <td>0</td>\n",
       "    </tr>\n",
       "  </tbody>\n",
       "</table>\n",
       "</div>"
      ],
      "text/plain": [
       "  Faixas Etárias  Masculino  Feminino  Outros\n",
       "0           0-20        156        39       1\n",
       "1          20-40        462        95      10\n",
       "2          40-60         15         2       0\n",
       "3            60+          0         0       0"
      ]
     },
     "execution_count": 6,
     "metadata": {},
     "output_type": "execute_result"
    }
   ],
   "source": [
    "analise_demografica = dict()\n",
    "\n",
    "analise_demografica[\"Faixas Etárias\"] = [\"0-20\",\"20-40\",\"40-60\",\"60+\"]\n",
    "\n",
    "faixas = [[0,20],[20,40],[40,60],[60,150]]\n",
    "masc = list()\n",
    "fem = list()\n",
    "outros = list()\n",
    "#print(faixas)\n",
    "\n",
    "for [x,y] in faixas:\n",
    "    a = purchase_file[purchase_file.Idade.isin([i for i in range(x,y)]) & purchase_file.Sexo.eq(\"Masculino\")]\n",
    "    masc.append(len(a.index))\n",
    "    a = purchase_file[purchase_file.Idade.isin([i for i in range(x,y)]) & purchase_file.Sexo.eq(\"Feminino\")]\n",
    "    fem.append(len(a.index))\n",
    "    a = purchase_file[purchase_file.Idade.isin([i for i in range(x,y)]) & ~purchase_file.Sexo.eq(\"Masculino\") & ~purchase_file.Sexo.eq(\"Feminino\")]\n",
    "    outros.append(len(a.index))\n",
    "\n",
    "analise_demografica[\"Masculino\"] = masc\n",
    "analise_demografica[\"Feminino\"] = fem\n",
    "analise_demografica[\"Outros\"] = outros\n",
    "\n",
    "analise_demografica = pd.DataFrame(analise_demografica)\n",
    "analise_demografica"
   ]
  },
  {
   "cell_type": "markdown",
   "metadata": {},
   "source": [
    "## Informações Demográficas Por Gênero"
   ]
  },
  {
   "cell_type": "code",
   "execution_count": 7,
   "metadata": {},
   "outputs": [
    {
     "name": "stdout",
     "output_type": "stream",
     "text": [
      "633 compradores são do sexo masculino, uma porcentagem de 81.15\n",
      "136 compradores são do sexo feminino, uma porcentagem de 17.44\n",
      "11 compradores são do sexo outros, uma porcentagem de 1.41\n"
     ]
    }
   ],
   "source": [
    "# Implemente aqui sua solução\n",
    "# Implemente aqui sua solução\n",
    "\n",
    "qnt_compradores_masc = len(purchase_file[purchase_file.Sexo.eq(\"Masculino\")].index)\n",
    "porc_compradores_masc = (qnt_compradores_masc/qnt_total_compras)*100\n",
    "print(\"%d compradores são do sexo masculino, uma porcentagem de %.2f\" % (qnt_compradores_masc,porc_compradores_masc ))\n",
    "\n",
    "qnt_compradores_fem = len(purchase_file[purchase_file.Sexo.eq(\"Feminino\")].index)\n",
    "porc_compradores_fem = (qnt_compradores_fem/qnt_total_compras)*100\n",
    "print(\"%d compradores são do sexo feminino, uma porcentagem de %.2f\" % (qnt_compradores_fem,porc_compradores_fem))\n",
    "\n",
    "qnt_compradores_outros = len(purchase_file[~purchase_file.Sexo.eq(\"Masculino\") & ~purchase_file.Sexo.eq(\"Feminino\")].index)\n",
    "porc_compradores_outros = (qnt_compradores_outros/qnt_total_compras)*100\n",
    "print(\"%d compradores são do sexo outros, uma porcentagem de %.2f\" % (qnt_compradores_outros,porc_compradores_outros))\n"
   ]
  },
  {
   "cell_type": "markdown",
   "metadata": {},
   "source": [
    "## Análise de Compras Por Gênero"
   ]
  },
  {
   "cell_type": "code",
   "execution_count": 8,
   "metadata": {},
   "outputs": [
    {
     "name": "stdout",
     "output_type": "stream",
     "text": [
      "Preço Médio de Compra por Gênero: \n",
      " $2.95 - Masculino \n",
      " $2.82 - Feminino \n",
      " $3.25 - Outros\n",
      "Valor Total de Compra por Gênero: \n",
      " $1867.68 - Masculino \n",
      " $382.91 - Feminino \n",
      " $35.74 - Outros\n"
     ]
    }
   ],
   "source": [
    "# Implemente aqui sua solução\n",
    "\n",
    "preco_medio_masc = purchase_file[purchase_file.Sexo.eq(\"Masculino\")].Valor.mean()\n",
    "preco_medio_fem = purchase_file[purchase_file.Sexo.eq(\"Feminino\")].Valor.mean()\n",
    "preco_medio_outro = purchase_file[purchase_file.Sexo.ne(\"Masculino\") & purchase_file.Sexo.ne(\"Feminino\")].Valor.mean()\n",
    "\n",
    "print(\"Preço Médio de Compra por Gênero: \\n $%.2f - Masculino \\n $%.2f - Feminino \\n $%.2f - Outros\" %(preco_medio_masc,preco_medio_fem,preco_medio_outro) )\n",
    "\n",
    "preco_total_masc = purchase_file[purchase_file.Sexo.eq(\"Masculino\")].Valor.sum()\n",
    "preco_total_fem = purchase_file[purchase_file.Sexo.eq(\"Feminino\")].Valor.sum()\n",
    "preco_total_outro = purchase_file[purchase_file.Sexo.ne(\"Masculino\") & purchase_file.Sexo.ne(\"Feminino\")].Valor.sum()\n",
    "\n",
    "print(\"Valor Total de Compra por Gênero: \\n $%.2f - Masculino \\n $%.2f - Feminino \\n $%.2f - Outros\" %(preco_total_masc,preco_total_fem,preco_total_outro) )\n"
   ]
  },
  {
   "cell_type": "markdown",
   "metadata": {},
   "source": [
    "## Consumidores Mais Populares (Top 5)"
   ]
  },
  {
   "cell_type": "code",
   "execution_count": 9,
   "metadata": {},
   "outputs": [
    {
     "data": {
      "text/html": [
       "<div>\n",
       "<style scoped>\n",
       "    .dataframe tbody tr th:only-of-type {\n",
       "        vertical-align: middle;\n",
       "    }\n",
       "\n",
       "    .dataframe tbody tr th {\n",
       "        vertical-align: top;\n",
       "    }\n",
       "\n",
       "    .dataframe thead th {\n",
       "        text-align: right;\n",
       "    }\n",
       "</style>\n",
       "<table border=\"1\" class=\"dataframe\">\n",
       "  <thead>\n",
       "    <tr style=\"text-align: right;\">\n",
       "      <th></th>\n",
       "      <th>Número de Compras</th>\n",
       "      <th>Preço Médio</th>\n",
       "      <th>Valor Total</th>\n",
       "    </tr>\n",
       "  </thead>\n",
       "  <tbody>\n",
       "    <tr>\n",
       "      <th>Undirrala66</th>\n",
       "      <td>5.0</td>\n",
       "      <td>3.412000</td>\n",
       "      <td>17.06</td>\n",
       "    </tr>\n",
       "    <tr>\n",
       "      <th>Saedue76</th>\n",
       "      <td>4.0</td>\n",
       "      <td>3.390000</td>\n",
       "      <td>13.56</td>\n",
       "    </tr>\n",
       "    <tr>\n",
       "      <th>Mindimnya67</th>\n",
       "      <td>4.0</td>\n",
       "      <td>3.185000</td>\n",
       "      <td>12.74</td>\n",
       "    </tr>\n",
       "    <tr>\n",
       "      <th>Haellysu29</th>\n",
       "      <td>3.0</td>\n",
       "      <td>4.243333</td>\n",
       "      <td>12.73</td>\n",
       "    </tr>\n",
       "    <tr>\n",
       "      <th>Eoda93</th>\n",
       "      <td>3.0</td>\n",
       "      <td>3.860000</td>\n",
       "      <td>11.58</td>\n",
       "    </tr>\n",
       "  </tbody>\n",
       "</table>\n",
       "</div>"
      ],
      "text/plain": [
       "             Número de Compras  Preço Médio  Valor Total\n",
       "Undirrala66                5.0     3.412000        17.06\n",
       "Saedue76                   4.0     3.390000        13.56\n",
       "Mindimnya67                4.0     3.185000        12.74\n",
       "Haellysu29                 3.0     4.243333        12.73\n",
       "Eoda93                     3.0     3.860000        11.58"
      ]
     },
     "execution_count": 9,
     "metadata": {},
     "output_type": "execute_result"
    }
   ],
   "source": [
    "# Implemente aqui sua solução\n",
    "\n",
    "logins = purchase_file.Login.unique()\n",
    "compras_por_login = dict()\n",
    "for login in logins:\n",
    "    compras_por_login[login] = [len(purchase_file[purchase_file.Login.eq(login)].index),\n",
    "                                purchase_file[purchase_file.Login.eq(login)].Valor.mean(),\n",
    "                                purchase_file[purchase_file.Login.eq(login)].Valor.sum()]\n",
    "\n",
    "df = pd.DataFrame(compras_por_login)#,columns=[\"Número de Compras\",\"Preço Médio\",\"Valor Total\"])\n",
    "compras_por_login = pd.DataFrame(np.array(df.T),columns=[\"Número de Compras\",\"Preço Médio\",\"Valor Total\"])\n",
    "compras_por_login.index = logins\n",
    "#print(compras_por_login)\n",
    "\n",
    "df = compras_por_login.sort_values(by=\"Valor Total\",ascending=False)\n",
    "df.head(5)\n",
    "\n"
   ]
  },
  {
   "cell_type": "markdown",
   "metadata": {},
   "source": [
    "## Itens Mais Populares"
   ]
  },
  {
   "cell_type": "code",
   "execution_count": 10,
   "metadata": {},
   "outputs": [
    {
     "data": {
      "text/html": [
       "<div>\n",
       "<style scoped>\n",
       "    .dataframe tbody tr th:only-of-type {\n",
       "        vertical-align: middle;\n",
       "    }\n",
       "\n",
       "    .dataframe tbody tr th {\n",
       "        vertical-align: top;\n",
       "    }\n",
       "\n",
       "    .dataframe thead th {\n",
       "        text-align: right;\n",
       "    }\n",
       "</style>\n",
       "<table border=\"1\" class=\"dataframe\">\n",
       "  <thead>\n",
       "    <tr style=\"text-align: right;\">\n",
       "      <th></th>\n",
       "      <th>Nome do Item</th>\n",
       "      <th>Número de Compras</th>\n",
       "      <th>Preço do Item</th>\n",
       "      <th>Valor Total</th>\n",
       "    </tr>\n",
       "  </thead>\n",
       "  <tbody>\n",
       "    <tr>\n",
       "      <th>39</th>\n",
       "      <td>Betrayal, Whisper of Grieving Widows</td>\n",
       "      <td>11</td>\n",
       "      <td>2.35</td>\n",
       "      <td>25.85</td>\n",
       "    </tr>\n",
       "    <tr>\n",
       "      <th>84</th>\n",
       "      <td>Arcane Gem</td>\n",
       "      <td>11</td>\n",
       "      <td>2.23</td>\n",
       "      <td>24.53</td>\n",
       "    </tr>\n",
       "    <tr>\n",
       "      <th>175</th>\n",
       "      <td>Woeful Adamantite Claymore</td>\n",
       "      <td>9</td>\n",
       "      <td>1.24</td>\n",
       "      <td>11.16</td>\n",
       "    </tr>\n",
       "    <tr>\n",
       "      <th>13</th>\n",
       "      <td>Serenity</td>\n",
       "      <td>9</td>\n",
       "      <td>1.49</td>\n",
       "      <td>13.41</td>\n",
       "    </tr>\n",
       "    <tr>\n",
       "      <th>31</th>\n",
       "      <td>Trickster</td>\n",
       "      <td>9</td>\n",
       "      <td>2.07</td>\n",
       "      <td>18.63</td>\n",
       "    </tr>\n",
       "  </tbody>\n",
       "</table>\n",
       "</div>"
      ],
      "text/plain": [
       "                             Nome do Item Número de Compras Preço do Item  \\\n",
       "39   Betrayal, Whisper of Grieving Widows                11          2.35   \n",
       "84                             Arcane Gem                11          2.23   \n",
       "175            Woeful Adamantite Claymore                 9          1.24   \n",
       "13                               Serenity                 9          1.49   \n",
       "31                              Trickster                 9          2.07   \n",
       "\n",
       "    Valor Total  \n",
       "39        25.85  \n",
       "84        24.53  \n",
       "175       11.16  \n",
       "13        13.41  \n",
       "31        18.63  "
      ]
     },
     "execution_count": 10,
     "metadata": {},
     "output_type": "execute_result"
    }
   ],
   "source": [
    "# Implemente aqui sua solução\n",
    "\n",
    "#purchase_file.columns\n",
    "itens = purchase_file[\"Item ID\"].unique()\n",
    "\n",
    "compras_por_item = dict()\n",
    "for item in itens:\n",
    "    compras_por_item[item] = [purchase_file[purchase_file[\"Item ID\"]==item][\"Nome do Item\"].to_list()[0],\n",
    "                             len(purchase_file[purchase_file[\"Item ID\"]==item].index),\n",
    "                             purchase_file[purchase_file[\"Item ID\"]==item][\"Valor\"].to_list()[0],\n",
    "                             purchase_file[purchase_file[\"Item ID\"]==item].Valor.sum()]\n",
    "    \n",
    "#print(compras_por_item)\n",
    "df = pd.DataFrame(compras_por_item)\n",
    "compras_por_item = pd.DataFrame(np.array(df.T),columns=[\"Nome do Item\",\"Número de Compras\",\"Preço do Item\",\"Valor Total\"])\n",
    "compras_por_item.index = itens\n",
    "\n",
    "df = compras_por_item.sort_values(by=\"Número de Compras\",ascending=False)\n",
    "df.head(5)\n",
    "\n"
   ]
  },
  {
   "cell_type": "markdown",
   "metadata": {},
   "source": [
    "## Itens Mais Lucrativos"
   ]
  },
  {
   "cell_type": "code",
   "execution_count": 11,
   "metadata": {},
   "outputs": [
    {
     "data": {
      "text/html": [
       "<div>\n",
       "<style scoped>\n",
       "    .dataframe tbody tr th:only-of-type {\n",
       "        vertical-align: middle;\n",
       "    }\n",
       "\n",
       "    .dataframe tbody tr th {\n",
       "        vertical-align: top;\n",
       "    }\n",
       "\n",
       "    .dataframe thead th {\n",
       "        text-align: right;\n",
       "    }\n",
       "</style>\n",
       "<table border=\"1\" class=\"dataframe\">\n",
       "  <thead>\n",
       "    <tr style=\"text-align: right;\">\n",
       "      <th></th>\n",
       "      <th>Nome do Item</th>\n",
       "      <th>Número de Compras</th>\n",
       "      <th>Preço do Item</th>\n",
       "      <th>Valor Total</th>\n",
       "    </tr>\n",
       "  </thead>\n",
       "  <tbody>\n",
       "    <tr>\n",
       "      <th>34</th>\n",
       "      <td>Retribution Axe</td>\n",
       "      <td>9</td>\n",
       "      <td>4.14</td>\n",
       "      <td>37.26</td>\n",
       "    </tr>\n",
       "    <tr>\n",
       "      <th>115</th>\n",
       "      <td>Spectral Diamond Doomblade</td>\n",
       "      <td>7</td>\n",
       "      <td>4.25</td>\n",
       "      <td>29.75</td>\n",
       "    </tr>\n",
       "    <tr>\n",
       "      <th>32</th>\n",
       "      <td>Orenmir</td>\n",
       "      <td>6</td>\n",
       "      <td>4.95</td>\n",
       "      <td>29.7</td>\n",
       "    </tr>\n",
       "    <tr>\n",
       "      <th>103</th>\n",
       "      <td>Singed Scalpel</td>\n",
       "      <td>6</td>\n",
       "      <td>4.87</td>\n",
       "      <td>29.22</td>\n",
       "    </tr>\n",
       "    <tr>\n",
       "      <th>107</th>\n",
       "      <td>Splitter, Foe Of Subtlety</td>\n",
       "      <td>8</td>\n",
       "      <td>3.61</td>\n",
       "      <td>28.88</td>\n",
       "    </tr>\n",
       "  </tbody>\n",
       "</table>\n",
       "</div>"
      ],
      "text/plain": [
       "                   Nome do Item Número de Compras Preço do Item Valor Total\n",
       "34              Retribution Axe                 9          4.14       37.26\n",
       "115  Spectral Diamond Doomblade                 7          4.25       29.75\n",
       "32                      Orenmir                 6          4.95        29.7\n",
       "103              Singed Scalpel                 6          4.87       29.22\n",
       "107   Splitter, Foe Of Subtlety                 8          3.61       28.88"
      ]
     },
     "execution_count": 11,
     "metadata": {},
     "output_type": "execute_result"
    }
   ],
   "source": [
    "# Implemente aqui sua solução\n",
    "\n",
    "df2 = compras_por_item.sort_values(by=\"Valor Total\",ascending=False)\n",
    "df2.head(5)"
   ]
  },
  {
   "cell_type": "markdown",
   "metadata": {
    "collapsed": true
   },
   "source": [
    "## Fim"
   ]
  },
  {
   "cell_type": "markdown",
   "metadata": {
    "collapsed": true
   },
   "source": [
    "### Obrigado - Data Science Academy - <a href=\"http://facebook.com/dsacademybr\">facebook.com/dsacademybr</a>"
   ]
  }
 ],
 "metadata": {
  "kernelspec": {
   "display_name": "Python 3",
   "language": "python",
   "name": "python3"
  },
  "language_info": {
   "codemirror_mode": {
    "name": "ipython",
    "version": 3
   },
   "file_extension": ".py",
   "mimetype": "text/x-python",
   "name": "python",
   "nbconvert_exporter": "python",
   "pygments_lexer": "ipython3",
   "version": "3.7.6"
  }
 },
 "nbformat": 4,
 "nbformat_minor": 2
}
